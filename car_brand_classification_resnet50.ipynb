{
 "cells": [
  {
   "cell_type": "markdown",
   "metadata": {
    "id": "PtsJOYtM21z8"
   },
   "source": [
    "# Identifying Car Brand with Deep Transfer Learning (ResNet50)"
   ]
  },
  {
   "cell_type": "code",
   "execution_count": 1,
   "metadata": {
    "executionInfo": {
     "elapsed": 3390,
     "status": "ok",
     "timestamp": 1612168377370,
     "user": {
      "displayName": "Ujwal Sah",
      "photoUrl": "https://lh3.googleusercontent.com/a-/AOh14GijuWFTd6FGdQTmHhPXs51pLdmuVqKYF1BIWExLDw=s64",
      "userId": "12511996127236108172"
     },
     "user_tz": -345
    },
    "id": "cMUKjD0SyzpX"
   },
   "outputs": [],
   "source": [
    "# we will need these as we are using transfer learning and we will have to train our own last layer(s)\n",
    "from tensorflow.keras.layers import Input, Lambda, Dense, Flatten\n",
    "from tensorflow.keras.models import Sequential, Model, load_model\n",
    "\n",
    "# importing pre-trained modeland a fuction to pre-process our image\n",
    "from tensorflow.keras.applications.resnet50 import ResNet50, preprocess_input\n",
    "\n",
    "# for image data augmentation\n",
    "from tensorflow.keras.preprocessing.image import ImageDataGenerator, load_img, img_to_array"
   ]
  },
  {
   "cell_type": "code",
   "execution_count": 2,
   "metadata": {
    "executionInfo": {
     "elapsed": 2556,
     "status": "ok",
     "timestamp": 1612168384984,
     "user": {
      "displayName": "Ujwal Sah",
      "photoUrl": "https://lh3.googleusercontent.com/a-/AOh14GijuWFTd6FGdQTmHhPXs51pLdmuVqKYF1BIWExLDw=s64",
      "userId": "12511996127236108172"
     },
     "user_tz": -345
    },
    "id": "64um-hdpyzpf"
   },
   "outputs": [],
   "source": [
    "# usual imports\n",
    "import numpy as np\n",
    "from glob import glob\n",
    "import matplotlib.pyplot as plt"
   ]
  },
  {
   "cell_type": "markdown",
   "metadata": {
    "id": "Jv7fK62fy1tl"
   },
   "source": [
    "### Datasets\n",
    "Car Brand Images dataset:\n",
    "\n",
    "https://github.com/krishnaik06/Deep-Learning-Car-Brand/blob/master/Datasets.zip"
   ]
  },
  {
   "cell_type": "code",
   "execution_count": 3,
   "metadata": {
    "executionInfo": {
     "elapsed": 1081,
     "status": "ok",
     "timestamp": 1612168812045,
     "user": {
      "displayName": "Ujwal Sah",
      "photoUrl": "https://lh3.googleusercontent.com/a-/AOh14GijuWFTd6FGdQTmHhPXs51pLdmuVqKYF1BIWExLDw=s64",
      "userId": "12511996127236108172"
     },
     "user_tz": -345
    },
    "id": "hk6CUZwayzpi"
   },
   "outputs": [],
   "source": [
    "train_path = \"Dataset/Train\"\n",
    "valid_path = \"Dataset/Valid\""
   ]
  },
  {
   "cell_type": "code",
   "execution_count": 4,
   "metadata": {
    "colab": {
     "base_uri": "https://localhost:8080/"
    },
    "executionInfo": {
     "elapsed": 1351,
     "status": "ok",
     "timestamp": 1612168815767,
     "user": {
      "displayName": "Ujwal Sah",
      "photoUrl": "https://lh3.googleusercontent.com/a-/AOh14GijuWFTd6FGdQTmHhPXs51pLdmuVqKYF1BIWExLDw=s64",
      "userId": "12511996127236108172"
     },
     "user_tz": -345
    },
    "id": "AZfQvxgZyzpk",
    "outputId": "94b964a1-4710-4539-d5d2-e91c527d04b9"
   },
   "outputs": [
    {
     "data": {
      "text/plain": [
       "['Dataset/Train\\\\audi',\n",
       " 'Dataset/Train\\\\lamborghini',\n",
       " 'Dataset/Train\\\\mercedes']"
      ]
     },
     "execution_count": 4,
     "metadata": {},
     "output_type": "execute_result"
    }
   ],
   "source": [
    "#useful for getting number of classes\n",
    "folders = glob(\"Dataset/Train/*\")\n",
    "folders"
   ]
  },
  {
   "cell_type": "markdown",
   "metadata": {
    "id": "zLzdOnZ93eB_"
   },
   "source": [
    "### Downloading the pretrained ResNet50 model with weights trained for ImageNet:\n",
    "\n",
    "More Info.: https://keras.io/api/applications/"
   ]
  },
  {
   "cell_type": "code",
   "execution_count": 5,
   "metadata": {
    "executionInfo": {
     "elapsed": 1104,
     "status": "ok",
     "timestamp": 1612168825582,
     "user": {
      "displayName": "Ujwal Sah",
      "photoUrl": "https://lh3.googleusercontent.com/a-/AOh14GijuWFTd6FGdQTmHhPXs51pLdmuVqKYF1BIWExLDw=s64",
      "userId": "12511996127236108172"
     },
     "user_tz": -345
    },
    "id": "mto-RoNzyzpg"
   },
   "outputs": [],
   "source": [
    "#resize all the images to this\n",
    "image_size = [224, 224]"
   ]
  },
  {
   "cell_type": "code",
   "execution_count": 6,
   "metadata": {
    "colab": {
     "base_uri": "https://localhost:8080/"
    },
    "executionInfo": {
     "elapsed": 7262,
     "status": "ok",
     "timestamp": 1612168834013,
     "user": {
      "displayName": "Ujwal Sah",
      "photoUrl": "https://lh3.googleusercontent.com/a-/AOh14GijuWFTd6FGdQTmHhPXs51pLdmuVqKYF1BIWExLDw=s64",
      "userId": "12511996127236108172"
     },
     "user_tz": -345
    },
    "id": "XfAVD86syzpj",
    "outputId": "168e172e-4c22-4208-8149-fd4024e26bd2"
   },
   "outputs": [],
   "source": [
    "# we will not include last layer include_top=False\n",
    "resnet = ResNet50(input_shape=image_size+[3], weights=\"imagenet\", include_top=False)"
   ]
  },
  {
   "cell_type": "code",
   "execution_count": 7,
   "metadata": {
    "executionInfo": {
     "elapsed": 1128,
     "status": "ok",
     "timestamp": 1612168845035,
     "user": {
      "displayName": "Ujwal Sah",
      "photoUrl": "https://lh3.googleusercontent.com/a-/AOh14GijuWFTd6FGdQTmHhPXs51pLdmuVqKYF1BIWExLDw=s64",
      "userId": "12511996127236108172"
     },
     "user_tz": -345
    },
    "id": "S06sE8h4yzpk"
   },
   "outputs": [],
   "source": [
    "#don't train existing weights\n",
    "for layer in resnet.layers:\n",
    "    layer.trainable=False"
   ]
  },
  {
   "cell_type": "markdown",
   "metadata": {
    "id": "d6v6Xn3L4FEK"
   },
   "source": [
    "### Model Construction"
   ]
  },
  {
   "cell_type": "code",
   "execution_count": 8,
   "metadata": {
    "executionInfo": {
     "elapsed": 1216,
     "status": "ok",
     "timestamp": 1612168846349,
     "user": {
      "displayName": "Ujwal Sah",
      "photoUrl": "https://lh3.googleusercontent.com/a-/AOh14GijuWFTd6FGdQTmHhPXs51pLdmuVqKYF1BIWExLDw=s64",
      "userId": "12511996127236108172"
     },
     "user_tz": -345
    },
    "id": "Q_RifY5Nyzpl"
   },
   "outputs": [],
   "source": [
    "#our layers\n",
    "x = Flatten()(resnet.output)"
   ]
  },
  {
   "cell_type": "code",
   "execution_count": 9,
   "metadata": {
    "executionInfo": {
     "elapsed": 1056,
     "status": "ok",
     "timestamp": 1612168846774,
     "user": {
      "displayName": "Ujwal Sah",
      "photoUrl": "https://lh3.googleusercontent.com/a-/AOh14GijuWFTd6FGdQTmHhPXs51pLdmuVqKYF1BIWExLDw=s64",
      "userId": "12511996127236108172"
     },
     "user_tz": -345
    },
    "id": "zx9YhgApyzpl"
   },
   "outputs": [],
   "source": [
    "prediction = Dense(len(folders), activation=\"softmax\")(x)"
   ]
  },
  {
   "cell_type": "code",
   "execution_count": 10,
   "metadata": {
    "executionInfo": {
     "elapsed": 1103,
     "status": "ok",
     "timestamp": 1612168877972,
     "user": {
      "displayName": "Ujwal Sah",
      "photoUrl": "https://lh3.googleusercontent.com/a-/AOh14GijuWFTd6FGdQTmHhPXs51pLdmuVqKYF1BIWExLDw=s64",
      "userId": "12511996127236108172"
     },
     "user_tz": -345
    },
    "id": "_knV0pZZyzpl"
   },
   "outputs": [],
   "source": [
    "#create a model object\n",
    "model = Model(inputs=resnet.input, outputs=prediction)"
   ]
  },
  {
   "cell_type": "code",
   "execution_count": 11,
   "metadata": {
    "colab": {
     "base_uri": "https://localhost:8080/"
    },
    "executionInfo": {
     "elapsed": 739,
     "status": "ok",
     "timestamp": 1612168878550,
     "user": {
      "displayName": "Ujwal Sah",
      "photoUrl": "https://lh3.googleusercontent.com/a-/AOh14GijuWFTd6FGdQTmHhPXs51pLdmuVqKYF1BIWExLDw=s64",
      "userId": "12511996127236108172"
     },
     "user_tz": -345
    },
    "id": "i0r17KFcyzpl",
    "outputId": "0bf0ddb0-0e76-49b2-cc2a-48efdf0af16c",
    "scrolled": true
   },
   "outputs": [
    {
     "name": "stdout",
     "output_type": "stream",
     "text": [
      "Model: \"functional_1\"\n",
      "__________________________________________________________________________________________________\n",
      "Layer (type)                    Output Shape         Param #     Connected to                     \n",
      "==================================================================================================\n",
      "input_1 (InputLayer)            [(None, 224, 224, 3) 0                                            \n",
      "__________________________________________________________________________________________________\n",
      "conv1_pad (ZeroPadding2D)       (None, 230, 230, 3)  0           input_1[0][0]                    \n",
      "__________________________________________________________________________________________________\n",
      "conv1_conv (Conv2D)             (None, 112, 112, 64) 9472        conv1_pad[0][0]                  \n",
      "__________________________________________________________________________________________________\n",
      "conv1_bn (BatchNormalization)   (None, 112, 112, 64) 256         conv1_conv[0][0]                 \n",
      "__________________________________________________________________________________________________\n",
      "conv1_relu (Activation)         (None, 112, 112, 64) 0           conv1_bn[0][0]                   \n",
      "__________________________________________________________________________________________________\n",
      "pool1_pad (ZeroPadding2D)       (None, 114, 114, 64) 0           conv1_relu[0][0]                 \n",
      "__________________________________________________________________________________________________\n",
      "pool1_pool (MaxPooling2D)       (None, 56, 56, 64)   0           pool1_pad[0][0]                  \n",
      "__________________________________________________________________________________________________\n",
      "conv2_block1_1_conv (Conv2D)    (None, 56, 56, 64)   4160        pool1_pool[0][0]                 \n",
      "__________________________________________________________________________________________________\n",
      "conv2_block1_1_bn (BatchNormali (None, 56, 56, 64)   256         conv2_block1_1_conv[0][0]        \n",
      "__________________________________________________________________________________________________\n",
      "conv2_block1_1_relu (Activation (None, 56, 56, 64)   0           conv2_block1_1_bn[0][0]          \n",
      "__________________________________________________________________________________________________\n",
      "conv2_block1_2_conv (Conv2D)    (None, 56, 56, 64)   36928       conv2_block1_1_relu[0][0]        \n",
      "__________________________________________________________________________________________________\n",
      "conv2_block1_2_bn (BatchNormali (None, 56, 56, 64)   256         conv2_block1_2_conv[0][0]        \n",
      "__________________________________________________________________________________________________\n",
      "conv2_block1_2_relu (Activation (None, 56, 56, 64)   0           conv2_block1_2_bn[0][0]          \n",
      "__________________________________________________________________________________________________\n",
      "conv2_block1_0_conv (Conv2D)    (None, 56, 56, 256)  16640       pool1_pool[0][0]                 \n",
      "__________________________________________________________________________________________________\n",
      "conv2_block1_3_conv (Conv2D)    (None, 56, 56, 256)  16640       conv2_block1_2_relu[0][0]        \n",
      "__________________________________________________________________________________________________\n",
      "conv2_block1_0_bn (BatchNormali (None, 56, 56, 256)  1024        conv2_block1_0_conv[0][0]        \n",
      "__________________________________________________________________________________________________\n",
      "conv2_block1_3_bn (BatchNormali (None, 56, 56, 256)  1024        conv2_block1_3_conv[0][0]        \n",
      "__________________________________________________________________________________________________\n",
      "conv2_block1_add (Add)          (None, 56, 56, 256)  0           conv2_block1_0_bn[0][0]          \n",
      "                                                                 conv2_block1_3_bn[0][0]          \n",
      "__________________________________________________________________________________________________\n",
      "conv2_block1_out (Activation)   (None, 56, 56, 256)  0           conv2_block1_add[0][0]           \n",
      "__________________________________________________________________________________________________\n",
      "conv2_block2_1_conv (Conv2D)    (None, 56, 56, 64)   16448       conv2_block1_out[0][0]           \n",
      "__________________________________________________________________________________________________\n",
      "conv2_block2_1_bn (BatchNormali (None, 56, 56, 64)   256         conv2_block2_1_conv[0][0]        \n",
      "__________________________________________________________________________________________________\n",
      "conv2_block2_1_relu (Activation (None, 56, 56, 64)   0           conv2_block2_1_bn[0][0]          \n",
      "__________________________________________________________________________________________________\n",
      "conv2_block2_2_conv (Conv2D)    (None, 56, 56, 64)   36928       conv2_block2_1_relu[0][0]        \n",
      "__________________________________________________________________________________________________\n",
      "conv2_block2_2_bn (BatchNormali (None, 56, 56, 64)   256         conv2_block2_2_conv[0][0]        \n",
      "__________________________________________________________________________________________________\n",
      "conv2_block2_2_relu (Activation (None, 56, 56, 64)   0           conv2_block2_2_bn[0][0]          \n",
      "__________________________________________________________________________________________________\n",
      "conv2_block2_3_conv (Conv2D)    (None, 56, 56, 256)  16640       conv2_block2_2_relu[0][0]        \n",
      "__________________________________________________________________________________________________\n",
      "conv2_block2_3_bn (BatchNormali (None, 56, 56, 256)  1024        conv2_block2_3_conv[0][0]        \n",
      "__________________________________________________________________________________________________\n",
      "conv2_block2_add (Add)          (None, 56, 56, 256)  0           conv2_block1_out[0][0]           \n",
      "                                                                 conv2_block2_3_bn[0][0]          \n",
      "__________________________________________________________________________________________________\n",
      "conv2_block2_out (Activation)   (None, 56, 56, 256)  0           conv2_block2_add[0][0]           \n",
      "__________________________________________________________________________________________________\n",
      "conv2_block3_1_conv (Conv2D)    (None, 56, 56, 64)   16448       conv2_block2_out[0][0]           \n",
      "__________________________________________________________________________________________________\n",
      "conv2_block3_1_bn (BatchNormali (None, 56, 56, 64)   256         conv2_block3_1_conv[0][0]        \n",
      "__________________________________________________________________________________________________\n",
      "conv2_block3_1_relu (Activation (None, 56, 56, 64)   0           conv2_block3_1_bn[0][0]          \n",
      "__________________________________________________________________________________________________\n",
      "conv2_block3_2_conv (Conv2D)    (None, 56, 56, 64)   36928       conv2_block3_1_relu[0][0]        \n",
      "__________________________________________________________________________________________________\n",
      "conv2_block3_2_bn (BatchNormali (None, 56, 56, 64)   256         conv2_block3_2_conv[0][0]        \n",
      "__________________________________________________________________________________________________\n",
      "conv2_block3_2_relu (Activation (None, 56, 56, 64)   0           conv2_block3_2_bn[0][0]          \n",
      "__________________________________________________________________________________________________\n",
      "conv2_block3_3_conv (Conv2D)    (None, 56, 56, 256)  16640       conv2_block3_2_relu[0][0]        \n",
      "__________________________________________________________________________________________________\n",
      "conv2_block3_3_bn (BatchNormali (None, 56, 56, 256)  1024        conv2_block3_3_conv[0][0]        \n",
      "__________________________________________________________________________________________________\n",
      "conv2_block3_add (Add)          (None, 56, 56, 256)  0           conv2_block2_out[0][0]           \n",
      "                                                                 conv2_block3_3_bn[0][0]          \n",
      "__________________________________________________________________________________________________\n",
      "conv2_block3_out (Activation)   (None, 56, 56, 256)  0           conv2_block3_add[0][0]           \n",
      "__________________________________________________________________________________________________\n",
      "conv3_block1_1_conv (Conv2D)    (None, 28, 28, 128)  32896       conv2_block3_out[0][0]           \n",
      "__________________________________________________________________________________________________\n",
      "conv3_block1_1_bn (BatchNormali (None, 28, 28, 128)  512         conv3_block1_1_conv[0][0]        \n",
      "__________________________________________________________________________________________________\n",
      "conv3_block1_1_relu (Activation (None, 28, 28, 128)  0           conv3_block1_1_bn[0][0]          \n",
      "__________________________________________________________________________________________________\n",
      "conv3_block1_2_conv (Conv2D)    (None, 28, 28, 128)  147584      conv3_block1_1_relu[0][0]        \n",
      "__________________________________________________________________________________________________\n",
      "conv3_block1_2_bn (BatchNormali (None, 28, 28, 128)  512         conv3_block1_2_conv[0][0]        \n",
      "__________________________________________________________________________________________________\n",
      "conv3_block1_2_relu (Activation (None, 28, 28, 128)  0           conv3_block1_2_bn[0][0]          \n",
      "__________________________________________________________________________________________________\n",
      "conv3_block1_0_conv (Conv2D)    (None, 28, 28, 512)  131584      conv2_block3_out[0][0]           \n",
      "__________________________________________________________________________________________________\n",
      "conv3_block1_3_conv (Conv2D)    (None, 28, 28, 512)  66048       conv3_block1_2_relu[0][0]        \n",
      "__________________________________________________________________________________________________\n",
      "conv3_block1_0_bn (BatchNormali (None, 28, 28, 512)  2048        conv3_block1_0_conv[0][0]        \n",
      "__________________________________________________________________________________________________\n",
      "conv3_block1_3_bn (BatchNormali (None, 28, 28, 512)  2048        conv3_block1_3_conv[0][0]        \n",
      "__________________________________________________________________________________________________\n",
      "conv3_block1_add (Add)          (None, 28, 28, 512)  0           conv3_block1_0_bn[0][0]          \n",
      "                                                                 conv3_block1_3_bn[0][0]          \n",
      "__________________________________________________________________________________________________\n",
      "conv3_block1_out (Activation)   (None, 28, 28, 512)  0           conv3_block1_add[0][0]           \n",
      "__________________________________________________________________________________________________\n",
      "conv3_block2_1_conv (Conv2D)    (None, 28, 28, 128)  65664       conv3_block1_out[0][0]           \n",
      "__________________________________________________________________________________________________\n",
      "conv3_block2_1_bn (BatchNormali (None, 28, 28, 128)  512         conv3_block2_1_conv[0][0]        \n",
      "__________________________________________________________________________________________________\n",
      "conv3_block2_1_relu (Activation (None, 28, 28, 128)  0           conv3_block2_1_bn[0][0]          \n",
      "__________________________________________________________________________________________________\n",
      "conv3_block2_2_conv (Conv2D)    (None, 28, 28, 128)  147584      conv3_block2_1_relu[0][0]        \n",
      "__________________________________________________________________________________________________\n",
      "conv3_block2_2_bn (BatchNormali (None, 28, 28, 128)  512         conv3_block2_2_conv[0][0]        \n",
      "__________________________________________________________________________________________________\n",
      "conv3_block2_2_relu (Activation (None, 28, 28, 128)  0           conv3_block2_2_bn[0][0]          \n",
      "__________________________________________________________________________________________________\n",
      "conv3_block2_3_conv (Conv2D)    (None, 28, 28, 512)  66048       conv3_block2_2_relu[0][0]        \n",
      "__________________________________________________________________________________________________\n",
      "conv3_block2_3_bn (BatchNormali (None, 28, 28, 512)  2048        conv3_block2_3_conv[0][0]        \n",
      "__________________________________________________________________________________________________\n",
      "conv3_block2_add (Add)          (None, 28, 28, 512)  0           conv3_block1_out[0][0]           \n",
      "                                                                 conv3_block2_3_bn[0][0]          \n",
      "__________________________________________________________________________________________________\n",
      "conv3_block2_out (Activation)   (None, 28, 28, 512)  0           conv3_block2_add[0][0]           \n",
      "__________________________________________________________________________________________________\n",
      "conv3_block3_1_conv (Conv2D)    (None, 28, 28, 128)  65664       conv3_block2_out[0][0]           \n",
      "__________________________________________________________________________________________________\n",
      "conv3_block3_1_bn (BatchNormali (None, 28, 28, 128)  512         conv3_block3_1_conv[0][0]        \n",
      "__________________________________________________________________________________________________\n",
      "conv3_block3_1_relu (Activation (None, 28, 28, 128)  0           conv3_block3_1_bn[0][0]          \n",
      "__________________________________________________________________________________________________\n",
      "conv3_block3_2_conv (Conv2D)    (None, 28, 28, 128)  147584      conv3_block3_1_relu[0][0]        \n",
      "__________________________________________________________________________________________________\n",
      "conv3_block3_2_bn (BatchNormali (None, 28, 28, 128)  512         conv3_block3_2_conv[0][0]        \n",
      "__________________________________________________________________________________________________\n",
      "conv3_block3_2_relu (Activation (None, 28, 28, 128)  0           conv3_block3_2_bn[0][0]          \n",
      "__________________________________________________________________________________________________\n",
      "conv3_block3_3_conv (Conv2D)    (None, 28, 28, 512)  66048       conv3_block3_2_relu[0][0]        \n",
      "__________________________________________________________________________________________________\n",
      "conv3_block3_3_bn (BatchNormali (None, 28, 28, 512)  2048        conv3_block3_3_conv[0][0]        \n",
      "__________________________________________________________________________________________________\n",
      "conv3_block3_add (Add)          (None, 28, 28, 512)  0           conv3_block2_out[0][0]           \n",
      "                                                                 conv3_block3_3_bn[0][0]          \n",
      "__________________________________________________________________________________________________\n",
      "conv3_block3_out (Activation)   (None, 28, 28, 512)  0           conv3_block3_add[0][0]           \n",
      "__________________________________________________________________________________________________\n",
      "conv3_block4_1_conv (Conv2D)    (None, 28, 28, 128)  65664       conv3_block3_out[0][0]           \n",
      "__________________________________________________________________________________________________\n",
      "conv3_block4_1_bn (BatchNormali (None, 28, 28, 128)  512         conv3_block4_1_conv[0][0]        \n",
      "__________________________________________________________________________________________________\n",
      "conv3_block4_1_relu (Activation (None, 28, 28, 128)  0           conv3_block4_1_bn[0][0]          \n",
      "__________________________________________________________________________________________________\n",
      "conv3_block4_2_conv (Conv2D)    (None, 28, 28, 128)  147584      conv3_block4_1_relu[0][0]        \n",
      "__________________________________________________________________________________________________\n",
      "conv3_block4_2_bn (BatchNormali (None, 28, 28, 128)  512         conv3_block4_2_conv[0][0]        \n",
      "__________________________________________________________________________________________________\n",
      "conv3_block4_2_relu (Activation (None, 28, 28, 128)  0           conv3_block4_2_bn[0][0]          \n",
      "__________________________________________________________________________________________________\n",
      "conv3_block4_3_conv (Conv2D)    (None, 28, 28, 512)  66048       conv3_block4_2_relu[0][0]        \n",
      "__________________________________________________________________________________________________\n",
      "conv3_block4_3_bn (BatchNormali (None, 28, 28, 512)  2048        conv3_block4_3_conv[0][0]        \n",
      "__________________________________________________________________________________________________\n",
      "conv3_block4_add (Add)          (None, 28, 28, 512)  0           conv3_block3_out[0][0]           \n",
      "                                                                 conv3_block4_3_bn[0][0]          \n",
      "__________________________________________________________________________________________________\n",
      "conv3_block4_out (Activation)   (None, 28, 28, 512)  0           conv3_block4_add[0][0]           \n",
      "__________________________________________________________________________________________________\n",
      "conv4_block1_1_conv (Conv2D)    (None, 14, 14, 256)  131328      conv3_block4_out[0][0]           \n",
      "__________________________________________________________________________________________________\n",
      "conv4_block1_1_bn (BatchNormali (None, 14, 14, 256)  1024        conv4_block1_1_conv[0][0]        \n",
      "__________________________________________________________________________________________________\n",
      "conv4_block1_1_relu (Activation (None, 14, 14, 256)  0           conv4_block1_1_bn[0][0]          \n",
      "__________________________________________________________________________________________________\n",
      "conv4_block1_2_conv (Conv2D)    (None, 14, 14, 256)  590080      conv4_block1_1_relu[0][0]        \n",
      "__________________________________________________________________________________________________\n",
      "conv4_block1_2_bn (BatchNormali (None, 14, 14, 256)  1024        conv4_block1_2_conv[0][0]        \n",
      "__________________________________________________________________________________________________\n",
      "conv4_block1_2_relu (Activation (None, 14, 14, 256)  0           conv4_block1_2_bn[0][0]          \n",
      "__________________________________________________________________________________________________\n",
      "conv4_block1_0_conv (Conv2D)    (None, 14, 14, 1024) 525312      conv3_block4_out[0][0]           \n",
      "__________________________________________________________________________________________________\n",
      "conv4_block1_3_conv (Conv2D)    (None, 14, 14, 1024) 263168      conv4_block1_2_relu[0][0]        \n",
      "__________________________________________________________________________________________________\n",
      "conv4_block1_0_bn (BatchNormali (None, 14, 14, 1024) 4096        conv4_block1_0_conv[0][0]        \n",
      "__________________________________________________________________________________________________\n",
      "conv4_block1_3_bn (BatchNormali (None, 14, 14, 1024) 4096        conv4_block1_3_conv[0][0]        \n",
      "__________________________________________________________________________________________________\n",
      "conv4_block1_add (Add)          (None, 14, 14, 1024) 0           conv4_block1_0_bn[0][0]          \n",
      "                                                                 conv4_block1_3_bn[0][0]          \n",
      "__________________________________________________________________________________________________\n",
      "conv4_block1_out (Activation)   (None, 14, 14, 1024) 0           conv4_block1_add[0][0]           \n",
      "__________________________________________________________________________________________________\n",
      "conv4_block2_1_conv (Conv2D)    (None, 14, 14, 256)  262400      conv4_block1_out[0][0]           \n",
      "__________________________________________________________________________________________________\n",
      "conv4_block2_1_bn (BatchNormali (None, 14, 14, 256)  1024        conv4_block2_1_conv[0][0]        \n",
      "__________________________________________________________________________________________________\n",
      "conv4_block2_1_relu (Activation (None, 14, 14, 256)  0           conv4_block2_1_bn[0][0]          \n",
      "__________________________________________________________________________________________________\n",
      "conv4_block2_2_conv (Conv2D)    (None, 14, 14, 256)  590080      conv4_block2_1_relu[0][0]        \n",
      "__________________________________________________________________________________________________\n",
      "conv4_block2_2_bn (BatchNormali (None, 14, 14, 256)  1024        conv4_block2_2_conv[0][0]        \n",
      "__________________________________________________________________________________________________\n",
      "conv4_block2_2_relu (Activation (None, 14, 14, 256)  0           conv4_block2_2_bn[0][0]          \n",
      "__________________________________________________________________________________________________\n",
      "conv4_block2_3_conv (Conv2D)    (None, 14, 14, 1024) 263168      conv4_block2_2_relu[0][0]        \n",
      "__________________________________________________________________________________________________\n",
      "conv4_block2_3_bn (BatchNormali (None, 14, 14, 1024) 4096        conv4_block2_3_conv[0][0]        \n",
      "__________________________________________________________________________________________________\n",
      "conv4_block2_add (Add)          (None, 14, 14, 1024) 0           conv4_block1_out[0][0]           \n",
      "                                                                 conv4_block2_3_bn[0][0]          \n",
      "__________________________________________________________________________________________________\n",
      "conv4_block2_out (Activation)   (None, 14, 14, 1024) 0           conv4_block2_add[0][0]           \n",
      "__________________________________________________________________________________________________\n",
      "conv4_block3_1_conv (Conv2D)    (None, 14, 14, 256)  262400      conv4_block2_out[0][0]           \n",
      "__________________________________________________________________________________________________\n",
      "conv4_block3_1_bn (BatchNormali (None, 14, 14, 256)  1024        conv4_block3_1_conv[0][0]        \n",
      "__________________________________________________________________________________________________\n",
      "conv4_block3_1_relu (Activation (None, 14, 14, 256)  0           conv4_block3_1_bn[0][0]          \n",
      "__________________________________________________________________________________________________\n",
      "conv4_block3_2_conv (Conv2D)    (None, 14, 14, 256)  590080      conv4_block3_1_relu[0][0]        \n",
      "__________________________________________________________________________________________________\n",
      "conv4_block3_2_bn (BatchNormali (None, 14, 14, 256)  1024        conv4_block3_2_conv[0][0]        \n",
      "__________________________________________________________________________________________________\n",
      "conv4_block3_2_relu (Activation (None, 14, 14, 256)  0           conv4_block3_2_bn[0][0]          \n",
      "__________________________________________________________________________________________________\n",
      "conv4_block3_3_conv (Conv2D)    (None, 14, 14, 1024) 263168      conv4_block3_2_relu[0][0]        \n",
      "__________________________________________________________________________________________________\n",
      "conv4_block3_3_bn (BatchNormali (None, 14, 14, 1024) 4096        conv4_block3_3_conv[0][0]        \n",
      "__________________________________________________________________________________________________\n",
      "conv4_block3_add (Add)          (None, 14, 14, 1024) 0           conv4_block2_out[0][0]           \n",
      "                                                                 conv4_block3_3_bn[0][0]          \n",
      "__________________________________________________________________________________________________\n",
      "conv4_block3_out (Activation)   (None, 14, 14, 1024) 0           conv4_block3_add[0][0]           \n",
      "__________________________________________________________________________________________________\n",
      "conv4_block4_1_conv (Conv2D)    (None, 14, 14, 256)  262400      conv4_block3_out[0][0]           \n",
      "__________________________________________________________________________________________________\n",
      "conv4_block4_1_bn (BatchNormali (None, 14, 14, 256)  1024        conv4_block4_1_conv[0][0]        \n",
      "__________________________________________________________________________________________________\n",
      "conv4_block4_1_relu (Activation (None, 14, 14, 256)  0           conv4_block4_1_bn[0][0]          \n",
      "__________________________________________________________________________________________________\n",
      "conv4_block4_2_conv (Conv2D)    (None, 14, 14, 256)  590080      conv4_block4_1_relu[0][0]        \n",
      "__________________________________________________________________________________________________\n",
      "conv4_block4_2_bn (BatchNormali (None, 14, 14, 256)  1024        conv4_block4_2_conv[0][0]        \n",
      "__________________________________________________________________________________________________\n",
      "conv4_block4_2_relu (Activation (None, 14, 14, 256)  0           conv4_block4_2_bn[0][0]          \n",
      "__________________________________________________________________________________________________\n",
      "conv4_block4_3_conv (Conv2D)    (None, 14, 14, 1024) 263168      conv4_block4_2_relu[0][0]        \n",
      "__________________________________________________________________________________________________\n",
      "conv4_block4_3_bn (BatchNormali (None, 14, 14, 1024) 4096        conv4_block4_3_conv[0][0]        \n",
      "__________________________________________________________________________________________________\n",
      "conv4_block4_add (Add)          (None, 14, 14, 1024) 0           conv4_block3_out[0][0]           \n",
      "                                                                 conv4_block4_3_bn[0][0]          \n",
      "__________________________________________________________________________________________________\n",
      "conv4_block4_out (Activation)   (None, 14, 14, 1024) 0           conv4_block4_add[0][0]           \n",
      "__________________________________________________________________________________________________\n",
      "conv4_block5_1_conv (Conv2D)    (None, 14, 14, 256)  262400      conv4_block4_out[0][0]           \n",
      "__________________________________________________________________________________________________\n",
      "conv4_block5_1_bn (BatchNormali (None, 14, 14, 256)  1024        conv4_block5_1_conv[0][0]        \n",
      "__________________________________________________________________________________________________\n",
      "conv4_block5_1_relu (Activation (None, 14, 14, 256)  0           conv4_block5_1_bn[0][0]          \n",
      "__________________________________________________________________________________________________\n",
      "conv4_block5_2_conv (Conv2D)    (None, 14, 14, 256)  590080      conv4_block5_1_relu[0][0]        \n",
      "__________________________________________________________________________________________________\n",
      "conv4_block5_2_bn (BatchNormali (None, 14, 14, 256)  1024        conv4_block5_2_conv[0][0]        \n",
      "__________________________________________________________________________________________________\n",
      "conv4_block5_2_relu (Activation (None, 14, 14, 256)  0           conv4_block5_2_bn[0][0]          \n",
      "__________________________________________________________________________________________________\n",
      "conv4_block5_3_conv (Conv2D)    (None, 14, 14, 1024) 263168      conv4_block5_2_relu[0][0]        \n",
      "__________________________________________________________________________________________________\n",
      "conv4_block5_3_bn (BatchNormali (None, 14, 14, 1024) 4096        conv4_block5_3_conv[0][0]        \n",
      "__________________________________________________________________________________________________\n",
      "conv4_block5_add (Add)          (None, 14, 14, 1024) 0           conv4_block4_out[0][0]           \n",
      "                                                                 conv4_block5_3_bn[0][0]          \n",
      "__________________________________________________________________________________________________\n",
      "conv4_block5_out (Activation)   (None, 14, 14, 1024) 0           conv4_block5_add[0][0]           \n",
      "__________________________________________________________________________________________________\n",
      "conv4_block6_1_conv (Conv2D)    (None, 14, 14, 256)  262400      conv4_block5_out[0][0]           \n",
      "__________________________________________________________________________________________________\n",
      "conv4_block6_1_bn (BatchNormali (None, 14, 14, 256)  1024        conv4_block6_1_conv[0][0]        \n",
      "__________________________________________________________________________________________________\n",
      "conv4_block6_1_relu (Activation (None, 14, 14, 256)  0           conv4_block6_1_bn[0][0]          \n",
      "__________________________________________________________________________________________________\n",
      "conv4_block6_2_conv (Conv2D)    (None, 14, 14, 256)  590080      conv4_block6_1_relu[0][0]        \n",
      "__________________________________________________________________________________________________\n",
      "conv4_block6_2_bn (BatchNormali (None, 14, 14, 256)  1024        conv4_block6_2_conv[0][0]        \n",
      "__________________________________________________________________________________________________\n",
      "conv4_block6_2_relu (Activation (None, 14, 14, 256)  0           conv4_block6_2_bn[0][0]          \n",
      "__________________________________________________________________________________________________\n",
      "conv4_block6_3_conv (Conv2D)    (None, 14, 14, 1024) 263168      conv4_block6_2_relu[0][0]        \n",
      "__________________________________________________________________________________________________\n",
      "conv4_block6_3_bn (BatchNormali (None, 14, 14, 1024) 4096        conv4_block6_3_conv[0][0]        \n",
      "__________________________________________________________________________________________________\n",
      "conv4_block6_add (Add)          (None, 14, 14, 1024) 0           conv4_block5_out[0][0]           \n",
      "                                                                 conv4_block6_3_bn[0][0]          \n",
      "__________________________________________________________________________________________________\n",
      "conv4_block6_out (Activation)   (None, 14, 14, 1024) 0           conv4_block6_add[0][0]           \n",
      "__________________________________________________________________________________________________\n",
      "conv5_block1_1_conv (Conv2D)    (None, 7, 7, 512)    524800      conv4_block6_out[0][0]           \n",
      "__________________________________________________________________________________________________\n",
      "conv5_block1_1_bn (BatchNormali (None, 7, 7, 512)    2048        conv5_block1_1_conv[0][0]        \n",
      "__________________________________________________________________________________________________\n",
      "conv5_block1_1_relu (Activation (None, 7, 7, 512)    0           conv5_block1_1_bn[0][0]          \n",
      "__________________________________________________________________________________________________\n",
      "conv5_block1_2_conv (Conv2D)    (None, 7, 7, 512)    2359808     conv5_block1_1_relu[0][0]        \n",
      "__________________________________________________________________________________________________\n",
      "conv5_block1_2_bn (BatchNormali (None, 7, 7, 512)    2048        conv5_block1_2_conv[0][0]        \n",
      "__________________________________________________________________________________________________\n",
      "conv5_block1_2_relu (Activation (None, 7, 7, 512)    0           conv5_block1_2_bn[0][0]          \n",
      "__________________________________________________________________________________________________\n",
      "conv5_block1_0_conv (Conv2D)    (None, 7, 7, 2048)   2099200     conv4_block6_out[0][0]           \n",
      "__________________________________________________________________________________________________\n",
      "conv5_block1_3_conv (Conv2D)    (None, 7, 7, 2048)   1050624     conv5_block1_2_relu[0][0]        \n",
      "__________________________________________________________________________________________________\n",
      "conv5_block1_0_bn (BatchNormali (None, 7, 7, 2048)   8192        conv5_block1_0_conv[0][0]        \n",
      "__________________________________________________________________________________________________\n",
      "conv5_block1_3_bn (BatchNormali (None, 7, 7, 2048)   8192        conv5_block1_3_conv[0][0]        \n",
      "__________________________________________________________________________________________________\n",
      "conv5_block1_add (Add)          (None, 7, 7, 2048)   0           conv5_block1_0_bn[0][0]          \n",
      "                                                                 conv5_block1_3_bn[0][0]          \n",
      "__________________________________________________________________________________________________\n",
      "conv5_block1_out (Activation)   (None, 7, 7, 2048)   0           conv5_block1_add[0][0]           \n",
      "__________________________________________________________________________________________________\n",
      "conv5_block2_1_conv (Conv2D)    (None, 7, 7, 512)    1049088     conv5_block1_out[0][0]           \n",
      "__________________________________________________________________________________________________\n",
      "conv5_block2_1_bn (BatchNormali (None, 7, 7, 512)    2048        conv5_block2_1_conv[0][0]        \n",
      "__________________________________________________________________________________________________\n",
      "conv5_block2_1_relu (Activation (None, 7, 7, 512)    0           conv5_block2_1_bn[0][0]          \n",
      "__________________________________________________________________________________________________\n",
      "conv5_block2_2_conv (Conv2D)    (None, 7, 7, 512)    2359808     conv5_block2_1_relu[0][0]        \n",
      "__________________________________________________________________________________________________\n",
      "conv5_block2_2_bn (BatchNormali (None, 7, 7, 512)    2048        conv5_block2_2_conv[0][0]        \n",
      "__________________________________________________________________________________________________\n",
      "conv5_block2_2_relu (Activation (None, 7, 7, 512)    0           conv5_block2_2_bn[0][0]          \n",
      "__________________________________________________________________________________________________\n",
      "conv5_block2_3_conv (Conv2D)    (None, 7, 7, 2048)   1050624     conv5_block2_2_relu[0][0]        \n",
      "__________________________________________________________________________________________________\n",
      "conv5_block2_3_bn (BatchNormali (None, 7, 7, 2048)   8192        conv5_block2_3_conv[0][0]        \n",
      "__________________________________________________________________________________________________\n",
      "conv5_block2_add (Add)          (None, 7, 7, 2048)   0           conv5_block1_out[0][0]           \n",
      "                                                                 conv5_block2_3_bn[0][0]          \n",
      "__________________________________________________________________________________________________\n",
      "conv5_block2_out (Activation)   (None, 7, 7, 2048)   0           conv5_block2_add[0][0]           \n",
      "__________________________________________________________________________________________________\n",
      "conv5_block3_1_conv (Conv2D)    (None, 7, 7, 512)    1049088     conv5_block2_out[0][0]           \n",
      "__________________________________________________________________________________________________\n",
      "conv5_block3_1_bn (BatchNormali (None, 7, 7, 512)    2048        conv5_block3_1_conv[0][0]        \n",
      "__________________________________________________________________________________________________\n",
      "conv5_block3_1_relu (Activation (None, 7, 7, 512)    0           conv5_block3_1_bn[0][0]          \n",
      "__________________________________________________________________________________________________\n",
      "conv5_block3_2_conv (Conv2D)    (None, 7, 7, 512)    2359808     conv5_block3_1_relu[0][0]        \n",
      "__________________________________________________________________________________________________\n",
      "conv5_block3_2_bn (BatchNormali (None, 7, 7, 512)    2048        conv5_block3_2_conv[0][0]        \n",
      "__________________________________________________________________________________________________\n",
      "conv5_block3_2_relu (Activation (None, 7, 7, 512)    0           conv5_block3_2_bn[0][0]          \n",
      "__________________________________________________________________________________________________\n",
      "conv5_block3_3_conv (Conv2D)    (None, 7, 7, 2048)   1050624     conv5_block3_2_relu[0][0]        \n",
      "__________________________________________________________________________________________________\n",
      "conv5_block3_3_bn (BatchNormali (None, 7, 7, 2048)   8192        conv5_block3_3_conv[0][0]        \n",
      "__________________________________________________________________________________________________\n",
      "conv5_block3_add (Add)          (None, 7, 7, 2048)   0           conv5_block2_out[0][0]           \n",
      "                                                                 conv5_block3_3_bn[0][0]          \n",
      "__________________________________________________________________________________________________\n",
      "conv5_block3_out (Activation)   (None, 7, 7, 2048)   0           conv5_block3_add[0][0]           \n",
      "__________________________________________________________________________________________________\n",
      "flatten (Flatten)               (None, 100352)       0           conv5_block3_out[0][0]           \n",
      "__________________________________________________________________________________________________\n",
      "dense (Dense)                   (None, 3)            301059      flatten[0][0]                    \n",
      "==================================================================================================\n",
      "Total params: 23,888,771\n",
      "Trainable params: 301,059\n",
      "Non-trainable params: 23,587,712\n",
      "__________________________________________________________________________________________________\n"
     ]
    }
   ],
   "source": [
    "#view the structure of the model\n",
    "model.summary()"
   ]
  },
  {
   "cell_type": "code",
   "execution_count": 12,
   "metadata": {
    "executionInfo": {
     "elapsed": 1104,
     "status": "ok",
     "timestamp": 1612168908818,
     "user": {
      "displayName": "Ujwal Sah",
      "photoUrl": "https://lh3.googleusercontent.com/a-/AOh14GijuWFTd6FGdQTmHhPXs51pLdmuVqKYF1BIWExLDw=s64",
      "userId": "12511996127236108172"
     },
     "user_tz": -345
    },
    "id": "8mHeRMnvyzpm"
   },
   "outputs": [],
   "source": [
    "model.compile(loss=\"categorical_crossentropy\", optimizer=\"adam\", metrics=[\"accuracy\"])"
   ]
  },
  {
   "cell_type": "code",
   "execution_count": 13,
   "metadata": {
    "colab": {
     "base_uri": "https://localhost:8080/"
    },
    "executionInfo": {
     "elapsed": 16554,
     "status": "ok",
     "timestamp": 1612168928522,
     "user": {
      "displayName": "Ujwal Sah",
      "photoUrl": "https://lh3.googleusercontent.com/a-/AOh14GijuWFTd6FGdQTmHhPXs51pLdmuVqKYF1BIWExLDw=s64",
      "userId": "12511996127236108172"
     },
     "user_tz": -345
    },
    "id": "OKSC8H9Iyzpm",
    "outputId": "8742dff2-cc8d-4bfa-fcf1-9f075a5d1b68"
   },
   "outputs": [
    {
     "name": "stdout",
     "output_type": "stream",
     "text": [
      "Found 64 images belonging to 3 classes.\n",
      "Found 58 images belonging to 3 classes.\n"
     ]
    }
   ],
   "source": [
    "#image_data_augmentation\n",
    "train_datagen = ImageDataGenerator(rescale=1/255, shear_range=0.2,\n",
    "                            zoom_range=0.2, horizontal_flip=True)\n",
    "\n",
    "val_datagen = ImageDataGenerator(rescale=1/255)\n",
    "\n",
    "training_set = train_datagen.flow_from_directory(train_path, batch_size=16,\n",
    "                                                 target_size=(224, 224), class_mode=\"categorical\")\n",
    "\n",
    "validation_set = val_datagen.flow_from_directory(valid_path, batch_size=16,\n",
    "                                                 target_size=(224, 224), class_mode=\"categorical\")"
   ]
  },
  {
   "cell_type": "code",
   "execution_count": 15,
   "metadata": {
    "colab": {
     "base_uri": "https://localhost:8080/"
    },
    "executionInfo": {
     "elapsed": 9494671,
     "status": "ok",
     "timestamp": 1612179296037,
     "user": {
      "displayName": "Ujwal Sah",
      "photoUrl": "https://lh3.googleusercontent.com/a-/AOh14GijuWFTd6FGdQTmHhPXs51pLdmuVqKYF1BIWExLDw=s64",
      "userId": "12511996127236108172"
     },
     "user_tz": -345
    },
    "id": "_dM5sl3lyzpm",
    "outputId": "ddc729cf-50a1-4ce1-8fd0-48616616e61a",
    "scrolled": true
   },
   "outputs": [
    {
     "name": "stdout",
     "output_type": "stream",
     "text": [
      "Epoch 1/50\n",
      "4/4 [==============================] - 9s 2s/step - loss: 4.8505 - accuracy: 0.4375 - val_loss: 3.0801 - val_accuracy: 0.1552\n",
      "Epoch 2/50\n",
      "4/4 [==============================] - 9s 2s/step - loss: 2.6455 - accuracy: 0.4844 - val_loss: 2.5884 - val_accuracy: 0.3276\n",
      "Epoch 3/50\n",
      "4/4 [==============================] - 9s 2s/step - loss: 2.2268 - accuracy: 0.5156 - val_loss: 3.6950 - val_accuracy: 0.3103\n",
      "Epoch 4/50\n",
      "4/4 [==============================] - 9s 2s/step - loss: 2.2040 - accuracy: 0.5781 - val_loss: 1.2517 - val_accuracy: 0.5345\n",
      "Epoch 5/50\n",
      "4/4 [==============================] - 9s 2s/step - loss: 1.4491 - accuracy: 0.4844 - val_loss: 1.3807 - val_accuracy: 0.4483\n",
      "Epoch 6/50\n",
      "4/4 [==============================] - 9s 2s/step - loss: 1.6165 - accuracy: 0.6562 - val_loss: 1.6069 - val_accuracy: 0.6207\n",
      "Epoch 7/50\n",
      "4/4 [==============================] - 9s 2s/step - loss: 1.1509 - accuracy: 0.5938 - val_loss: 2.6069 - val_accuracy: 0.3966\n",
      "Epoch 8/50\n",
      "4/4 [==============================] - 9s 2s/step - loss: 0.7755 - accuracy: 0.7188 - val_loss: 1.7346 - val_accuracy: 0.6207\n",
      "Epoch 9/50\n",
      "4/4 [==============================] - 9s 2s/step - loss: 1.0266 - accuracy: 0.7188 - val_loss: 1.9531 - val_accuracy: 0.4138\n",
      "Epoch 10/50\n",
      "4/4 [==============================] - 9s 2s/step - loss: 0.8705 - accuracy: 0.7188 - val_loss: 1.0924 - val_accuracy: 0.6034\n",
      "Epoch 11/50\n",
      "4/4 [==============================] - 9s 2s/step - loss: 0.8880 - accuracy: 0.6875 - val_loss: 1.1727 - val_accuracy: 0.6207\n",
      "Epoch 12/50\n",
      "4/4 [==============================] - 9s 2s/step - loss: 1.1464 - accuracy: 0.6250 - val_loss: 2.1182 - val_accuracy: 0.4310\n",
      "Epoch 13/50\n",
      "4/4 [==============================] - 9s 2s/step - loss: 0.5760 - accuracy: 0.8125 - val_loss: 1.3336 - val_accuracy: 0.6379\n",
      "Epoch 14/50\n",
      "4/4 [==============================] - 9s 2s/step - loss: 0.5318 - accuracy: 0.7969 - val_loss: 1.4227 - val_accuracy: 0.5862\n",
      "Epoch 15/50\n",
      "4/4 [==============================] - 9s 2s/step - loss: 0.6611 - accuracy: 0.7188 - val_loss: 1.2759 - val_accuracy: 0.5862\n",
      "Epoch 16/50\n",
      "4/4 [==============================] - 9s 2s/step - loss: 0.9425 - accuracy: 0.7500 - val_loss: 0.9672 - val_accuracy: 0.6897\n",
      "Epoch 17/50\n",
      "4/4 [==============================] - 9s 2s/step - loss: 1.2517 - accuracy: 0.5938 - val_loss: 1.1618 - val_accuracy: 0.6207\n",
      "Epoch 18/50\n",
      "4/4 [==============================] - 9s 2s/step - loss: 0.8127 - accuracy: 0.7656 - val_loss: 1.3906 - val_accuracy: 0.6552\n",
      "Epoch 19/50\n",
      "4/4 [==============================] - 9s 2s/step - loss: 0.3983 - accuracy: 0.8281 - val_loss: 2.2760 - val_accuracy: 0.4310\n",
      "Epoch 20/50\n",
      "4/4 [==============================] - 9s 2s/step - loss: 0.8615 - accuracy: 0.7188 - val_loss: 1.1935 - val_accuracy: 0.6552\n",
      "Epoch 21/50\n",
      "4/4 [==============================] - 9s 2s/step - loss: 0.4453 - accuracy: 0.7812 - val_loss: 1.7326 - val_accuracy: 0.5172\n",
      "Epoch 22/50\n",
      "4/4 [==============================] - 9s 2s/step - loss: 0.6415 - accuracy: 0.7969 - val_loss: 1.0396 - val_accuracy: 0.6897\n",
      "Epoch 23/50\n",
      "4/4 [==============================] - 9s 2s/step - loss: 0.5272 - accuracy: 0.7656 - val_loss: 1.2966 - val_accuracy: 0.5517\n",
      "Epoch 24/50\n",
      "4/4 [==============================] - 9s 2s/step - loss: 0.4203 - accuracy: 0.8438 - val_loss: 1.0138 - val_accuracy: 0.7241\n",
      "Epoch 25/50\n",
      "4/4 [==============================] - 9s 2s/step - loss: 0.3393 - accuracy: 0.8281 - val_loss: 0.9373 - val_accuracy: 0.6897\n",
      "Epoch 26/50\n",
      "4/4 [==============================] - 9s 2s/step - loss: 0.2512 - accuracy: 0.9062 - val_loss: 0.9333 - val_accuracy: 0.7586\n",
      "Epoch 27/50\n",
      "4/4 [==============================] - 9s 2s/step - loss: 0.3126 - accuracy: 0.9219 - val_loss: 0.8940 - val_accuracy: 0.7586\n",
      "Epoch 28/50\n",
      "4/4 [==============================] - 9s 2s/step - loss: 0.2877 - accuracy: 0.8906 - val_loss: 0.9190 - val_accuracy: 0.7069\n",
      "Epoch 29/50\n",
      "4/4 [==============================] - 9s 2s/step - loss: 0.1792 - accuracy: 0.9844 - val_loss: 0.9173 - val_accuracy: 0.7586\n",
      "Epoch 30/50\n",
      "4/4 [==============================] - 9s 2s/step - loss: 0.2366 - accuracy: 0.9062 - val_loss: 0.8863 - val_accuracy: 0.7759\n",
      "Epoch 31/50\n",
      "4/4 [==============================] - 9s 2s/step - loss: 0.2248 - accuracy: 0.9062 - val_loss: 0.8995 - val_accuracy: 0.7241\n",
      "Epoch 32/50\n",
      "4/4 [==============================] - 9s 2s/step - loss: 0.1979 - accuracy: 0.9219 - val_loss: 0.9155 - val_accuracy: 0.7586\n",
      "Epoch 33/50\n",
      "4/4 [==============================] - 10s 3s/step - loss: 0.1942 - accuracy: 0.9688 - val_loss: 0.9221 - val_accuracy: 0.6897\n",
      "Epoch 34/50\n",
      "4/4 [==============================] - 9s 2s/step - loss: 0.1592 - accuracy: 0.9531 - val_loss: 0.9322 - val_accuracy: 0.7414\n",
      "Epoch 35/50\n",
      "4/4 [==============================] - 9s 2s/step - loss: 0.2745 - accuracy: 0.8750 - val_loss: 1.0069 - val_accuracy: 0.6724\n",
      "Epoch 36/50\n",
      "4/4 [==============================] - 9s 2s/step - loss: 0.3058 - accuracy: 0.8906 - val_loss: 1.0692 - val_accuracy: 0.6897\n",
      "Epoch 37/50\n",
      "4/4 [==============================] - 9s 2s/step - loss: 0.4421 - accuracy: 0.7812 - val_loss: 1.9173 - val_accuracy: 0.4828\n",
      "Epoch 38/50\n",
      "4/4 [==============================] - 9s 2s/step - loss: 0.4436 - accuracy: 0.8281 - val_loss: 1.6083 - val_accuracy: 0.6034\n",
      "Epoch 39/50\n",
      "4/4 [==============================] - 9s 2s/step - loss: 0.5752 - accuracy: 0.7500 - val_loss: 1.4703 - val_accuracy: 0.5172\n",
      "Epoch 40/50\n",
      "4/4 [==============================] - 9s 2s/step - loss: 0.2152 - accuracy: 0.9062 - val_loss: 1.1257 - val_accuracy: 0.7414\n",
      "Epoch 41/50\n",
      "4/4 [==============================] - 9s 2s/step - loss: 0.2354 - accuracy: 0.8906 - val_loss: 1.2662 - val_accuracy: 0.5517\n",
      "Epoch 42/50\n",
      "4/4 [==============================] - 10s 2s/step - loss: 0.1810 - accuracy: 0.9531 - val_loss: 0.9488 - val_accuracy: 0.7241\n",
      "Epoch 43/50\n",
      "4/4 [==============================] - 10s 2s/step - loss: 0.2323 - accuracy: 0.9062 - val_loss: 1.0677 - val_accuracy: 0.7069\n",
      "Epoch 44/50\n",
      "4/4 [==============================] - 11s 3s/step - loss: 0.2650 - accuracy: 0.9062 - val_loss: 0.9971 - val_accuracy: 0.7414\n",
      "Epoch 45/50\n",
      "4/4 [==============================] - 10s 2s/step - loss: 0.3038 - accuracy: 0.9062 - val_loss: 0.9710 - val_accuracy: 0.7241\n",
      "Epoch 46/50\n",
      "4/4 [==============================] - 10s 2s/step - loss: 0.1472 - accuracy: 0.9688 - val_loss: 0.9232 - val_accuracy: 0.7241\n",
      "Epoch 47/50\n",
      "4/4 [==============================] - 10s 3s/step - loss: 0.1406 - accuracy: 0.9531 - val_loss: 0.8979 - val_accuracy: 0.7931\n",
      "Epoch 48/50\n",
      "4/4 [==============================] - 10s 3s/step - loss: 0.1698 - accuracy: 0.9531 - val_loss: 0.9620 - val_accuracy: 0.6724\n",
      "Epoch 49/50\n",
      "4/4 [==============================] - 9s 2s/step - loss: 0.1332 - accuracy: 0.9688 - val_loss: 0.9290 - val_accuracy: 0.7586\n",
      "Epoch 50/50\n",
      "4/4 [==============================] - 9s 2s/step - loss: 0.1583 - accuracy: 0.9531 - val_loss: 0.9071 - val_accuracy: 0.8103\n"
     ]
    }
   ],
   "source": [
    "# fit the model\n",
    "r = model.fit(training_set, validation_data=validation_set, epochs=50,\n",
    "                        steps_per_epoch=len(training_set), validation_steps=len(validation_set))"
   ]
  },
  {
   "cell_type": "code",
   "execution_count": 16,
   "metadata": {
    "colab": {
     "base_uri": "https://localhost:8080/",
     "height": 533
    },
    "executionInfo": {
     "elapsed": 2139,
     "status": "ok",
     "timestamp": 1612179306460,
     "user": {
      "displayName": "Ujwal Sah",
      "photoUrl": "https://lh3.googleusercontent.com/a-/AOh14GijuWFTd6FGdQTmHhPXs51pLdmuVqKYF1BIWExLDw=s64",
      "userId": "12511996127236108172"
     },
     "user_tz": -345
    },
    "id": "OIQYh6dByzpn",
    "outputId": "783dd8f4-4363-47fb-c5a7-138a2b2ee8ce"
   },
   "outputs": [
    {
     "data": {
      "image/png": "[encoded data removed]",
      "text/plain": [
       "<Figure size 432x288 with 1 Axes>"
      ]
     },
     "metadata": {
      "needs_background": "light"
     },
     "output_type": "display_data"
    },
    {
     "data": {
      "image/png": "[encoded data removed]",
      "text/plain": [
       "<Figure size 432x288 with 1 Axes>"
      ]
     },
     "metadata": {
      "needs_background": "light"
     },
     "output_type": "display_data"
    },
    {
     "data": {
      "text/plain": [
       "<Figure size 432x288 with 0 Axes>"
      ]
     },
     "metadata": {},
     "output_type": "display_data"
    }
   ],
   "source": [
    "# plot the loss\n",
    "plt.plot(r.history['loss'], label='train loss')\n",
    "plt.plot(r.history['val_loss'], label='val loss')\n",
    "plt.legend()\n",
    "plt.show()\n",
    "plt.savefig('LossVal_loss')\n",
    "\n",
    "# plot the accuracy\n",
    "plt.plot(r.history['accuracy'], label='train acc')\n",
    "plt.plot(r.history['val_accuracy'], label='val acc')\n",
    "plt.legend()\n",
    "plt.show()\n",
    "plt.savefig('AccVal_acc')"
   ]
  },
  {
   "cell_type": "code",
   "execution_count": 18,
   "metadata": {
    "colab": {
     "base_uri": "https://localhost:8080/"
    },
    "executionInfo": {
     "elapsed": 25292,
     "status": "ok",
     "timestamp": 1612179393417,
     "user": {
      "displayName": "Ujwal Sah",
      "photoUrl": "https://lh3.googleusercontent.com/a-/AOh14GijuWFTd6FGdQTmHhPXs51pLdmuVqKYF1BIWExLDw=s64",
      "userId": "12511996127236108172"
     },
     "user_tz": -345
    },
    "id": "Hpj_tQgfyzpn",
    "outputId": "3e453f47-b6d4-46c7-87b2-8b65eb28542b"
   },
   "outputs": [
    {
     "data": {
      "text/plain": [
       "array([[4.69193786e-01, 1.06272720e-01, 4.24533427e-01],\n",
       "       [2.25600461e-03, 9.97677267e-01, 6.67387649e-05],\n",
       "       [7.91901425e-02, 8.69741499e-01, 5.10684289e-02],\n",
       "       [3.24241631e-02, 1.71481376e-03, 9.65860963e-01],\n",
       "       [3.20031168e-03, 9.72270966e-01, 2.45287623e-02],\n",
       "       [1.65522490e-02, 3.49340558e-01, 6.34107232e-01],\n",
       "       [7.23598361e-01, 7.60766678e-03, 2.68793911e-01],\n",
       "       [4.96657230e-02, 1.19639441e-01, 8.30694795e-01],\n",
       "       [9.15168881e-01, 7.21743256e-02, 1.26568926e-02],\n",
       "       [9.90071177e-01, 7.51137594e-03, 2.41741491e-03],\n",
       "       [6.80923695e-04, 9.92996156e-01, 6.32295292e-03],\n",
       "       [1.63415056e-02, 4.39588994e-01, 5.44069469e-01],\n",
       "       [6.02009118e-01, 2.77041197e-01, 1.20949686e-01],\n",
       "       [8.71297717e-02, 8.31476629e-01, 8.13936070e-02],\n",
       "       [1.10101014e-01, 3.49068254e-01, 5.40830791e-01],\n",
       "       [1.07085973e-03, 9.79995906e-01, 1.89333353e-02],\n",
       "       [5.55006564e-02, 1.07729174e-02, 9.33726490e-01],\n",
       "       [4.73699620e-04, 9.98545408e-01, 9.80940298e-04],\n",
       "       [3.93503252e-03, 8.88889194e-01, 1.07175723e-01],\n",
       "       [8.48423317e-03, 9.89769936e-01, 1.74580433e-03],\n",
       "       [2.56640225e-04, 9.94660556e-01, 5.08290622e-03],\n",
       "       [2.60443762e-02, 9.78040881e-03, 9.64175224e-01],\n",
       "       [6.82566464e-02, 8.87862206e-01, 4.38812040e-02],\n",
       "       [1.90335664e-03, 9.87671733e-01, 1.04249353e-02],\n",
       "       [7.68209720e-05, 9.43433940e-01, 5.64891994e-02],\n",
       "       [6.24603563e-05, 9.99802887e-01, 1.34626724e-04],\n",
       "       [8.98340642e-02, 8.43393624e-01, 6.67723790e-02],\n",
       "       [1.36540772e-03, 9.92925882e-01, 5.70875453e-03],\n",
       "       [3.27023429e-07, 6.28728420e-04, 9.99370992e-01],\n",
       "       [6.92495843e-03, 9.66957092e-01, 2.61178892e-02],\n",
       "       [9.17025935e-03, 1.57632120e-03, 9.89253461e-01],\n",
       "       [9.13029253e-01, 7.02495500e-02, 1.67211667e-02],\n",
       "       [3.74843292e-02, 6.27874613e-01, 3.34641069e-01],\n",
       "       [5.78709185e-01, 3.92104119e-01, 2.91867182e-02],\n",
       "       [5.85728958e-05, 9.99840498e-01, 1.00994599e-04],\n",
       "       [6.78558042e-03, 2.30180100e-01, 7.63034344e-01],\n",
       "       [8.67608190e-03, 7.10403681e-01, 2.80920267e-01],\n",
       "       [2.18633395e-02, 7.68494248e-01, 2.09642500e-01],\n",
       "       [3.74931663e-01, 6.24928713e-01, 1.39601369e-04],\n",
       "       [1.17971629e-01, 8.75234246e-01, 6.79413835e-03],\n",
       "       [4.64151999e-05, 9.98975158e-01, 9.78453900e-04],\n",
       "       [3.45462002e-03, 5.95377207e-01, 4.01168138e-01],\n",
       "       [1.24720715e-01, 7.68974006e-01, 1.06305286e-01],\n",
       "       [2.51378651e-06, 1.06949381e-04, 9.99890566e-01],\n",
       "       [3.90664451e-02, 4.48133324e-05, 9.60888803e-01],\n",
       "       [1.32712454e-03, 2.32333597e-02, 9.75439489e-01],\n",
       "       [5.54918125e-03, 2.17150175e-03, 9.92279291e-01],\n",
       "       [4.53525549e-03, 9.30402339e-01, 6.50624707e-02],\n",
       "       [1.86971445e-02, 6.89816058e-01, 2.91486830e-01],\n",
       "       [1.56343989e-02, 8.17780137e-01, 1.66585475e-01],\n",
       "       [6.37278566e-03, 8.43850493e-01, 1.49776772e-01],\n",
       "       [4.09723148e-02, 6.95176899e-01, 2.63850719e-01],\n",
       "       [7.35174224e-04, 8.04608822e-01, 1.94655925e-01],\n",
       "       [4.68655437e-01, 4.17967260e-01, 1.13377310e-01],\n",
       "       [1.12836773e-03, 9.92929161e-01, 5.94245223e-03],\n",
       "       [2.42799837e-02, 6.41249940e-02, 9.11595047e-01],\n",
       "       [1.09528247e-02, 9.23816442e-01, 6.52307570e-02],\n",
       "       [3.20190005e-03, 9.93315279e-01, 3.48280976e-03]], dtype=float32)"
      ]
     },
     "execution_count": 18,
     "metadata": {},
     "output_type": "execute_result"
    }
   ],
   "source": [
    "y_pred = model.predict(validation_set)\n",
    "y_pred[0:50]"
   ]
  },
  {
   "cell_type": "code",
   "execution_count": 19,
   "metadata": {
    "colab": {
     "base_uri": "https://localhost:8080/"
    },
    "executionInfo": {
     "elapsed": 1042,
     "status": "ok",
     "timestamp": 1612179398555,
     "user": {
      "displayName": "Ujwal Sah",
      "photoUrl": "https://lh3.googleusercontent.com/a-/AOh14GijuWFTd6FGdQTmHhPXs51pLdmuVqKYF1BIWExLDw=s64",
      "userId": "12511996127236108172"
     },
     "user_tz": -345
    },
    "id": "Q6liJXkmyzpn",
    "outputId": "206db4da-1e3b-4c22-e253-ece244f85257"
   },
   "outputs": [
    {
     "data": {
      "text/plain": [
       "array([0, 1, 1, 2, 1, 2, 0, 2, 0, 0, 1, 2, 0, 1, 2, 1, 2, 1, 1, 1, 1, 2,\n",
       "       1, 1, 1, 1, 1, 1, 2, 1, 2, 0, 1, 0, 1, 2, 1, 1, 1, 1, 1, 1, 1, 2,\n",
       "       2, 2, 2, 1, 1, 1], dtype=int64)"
      ]
     },
     "execution_count": 19,
     "metadata": {},
     "output_type": "execute_result"
    }
   ],
   "source": [
    "y_pred = np.argmax(y_pred, axis=1)\n",
    "y_pred[0:50]"
   ]
  },
  {
   "cell_type": "code",
   "execution_count": 20,
   "metadata": {
    "executionInfo": {
     "elapsed": 1084,
     "status": "ok",
     "timestamp": 1612179403511,
     "user": {
      "displayName": "Ujwal Sah",
      "photoUrl": "https://lh3.googleusercontent.com/a-/AOh14GijuWFTd6FGdQTmHhPXs51pLdmuVqKYF1BIWExLDw=s64",
      "userId": "12511996127236108172"
     },
     "user_tz": -345
    },
    "id": "Xw_Fhh6xyzpo"
   },
   "outputs": [],
   "source": [
    "#save the model as a h5 file\n",
    "model.save(\"car_brand_classification_resnet50.h5\")"
   ]
  },
  {
   "cell_type": "code",
   "execution_count": 21,
   "metadata": {
    "executionInfo": {
     "elapsed": 1117,
     "status": "ok",
     "timestamp": 1612179574255,
     "user": {
      "displayName": "Ujwal Sah",
      "photoUrl": "https://lh3.googleusercontent.com/a-/AOh14GijuWFTd6FGdQTmHhPXs51pLdmuVqKYF1BIWExLDw=s64",
      "userId": "12511996127236108172"
     },
     "user_tz": -345
    },
    "id": "nHNrI7zQyzpo"
   },
   "outputs": [],
   "source": [
    "model=load_model(\"car_brand_classification_resnet50.h5\")"
   ]
  },
  {
   "cell_type": "code",
   "execution_count": 29,
   "metadata": {
    "colab": {
     "base_uri": "https://localhost:8080/",
     "height": 241
    },
    "executionInfo": {
     "elapsed": 1345,
     "status": "ok",
     "timestamp": 1610947425997,
     "user": {
      "displayName": "Ujwal Sah",
      "photoUrl": "https://lh3.googleusercontent.com/a-/AOh14GijuWFTd6FGdQTmHhPXs51pLdmuVqKYF1BIWExLDw=s64",
      "userId": "12511996127236108172"
     },
     "user_tz": -345
    },
    "id": "32fyfiymekEk",
    "outputId": "5e5c82a5-0ba5-4ff6-c6fe-4fa3e64f9202"
   },
   "outputs": [
    {
     "data": {
      "image/png": "[encoded data removed]",
      "text/plain": [
       "<PIL.Image.Image image mode=RGB size=224x224 at 0x2047D31A2E0>"
      ]
     },
     "execution_count": 29,
     "metadata": {},
     "output_type": "execute_result"
    }
   ],
   "source": [
    "img=load_img('trial.jpg',target_size=(224,224))\n",
    "img"
   ]
  },
  {
   "cell_type": "code",
   "execution_count": 30,
   "metadata": {
    "colab": {
     "base_uri": "https://localhost:8080/"
    },
    "executionInfo": {
     "elapsed": 1064,
     "status": "ok",
     "timestamp": 1610947428147,
     "user": {
      "displayName": "Ujwal Sah",
      "photoUrl": "https://lh3.googleusercontent.com/a-/AOh14GijuWFTd6FGdQTmHhPXs51pLdmuVqKYF1BIWExLDw=s64",
      "userId": "12511996127236108172"
     },
     "user_tz": -345
    },
    "id": "dKU-Zw5s3KTc",
    "outputId": "32e4d24d-5522-4614-bb62-0bf63cf22986"
   },
   "outputs": [
    {
     "data": {
      "text/plain": [
       "(224, 224, 3)"
      ]
     },
     "execution_count": 30,
     "metadata": {},
     "output_type": "execute_result"
    }
   ],
   "source": [
    "x=img_to_array(img)\n",
    "x.shape"
   ]
  },
  {
   "cell_type": "code",
   "execution_count": 31,
   "metadata": {
    "id": "BUUOem693gTP"
   },
   "outputs": [],
   "source": [
    "x=x/255"
   ]
  },
  {
   "cell_type": "code",
   "execution_count": 32,
   "metadata": {
    "colab": {
     "base_uri": "https://localhost:8080/"
    },
    "executionInfo": {
     "elapsed": 1154,
     "status": "ok",
     "timestamp": 1610947435313,
     "user": {
      "displayName": "Ujwal Sah",
      "photoUrl": "https://lh3.googleusercontent.com/a-/AOh14GijuWFTd6FGdQTmHhPXs51pLdmuVqKYF1BIWExLDw=s64",
      "userId": "12511996127236108172"
     },
     "user_tz": -345
    },
    "id": "97r1WeHF3t6U",
    "outputId": "6179ef64-a985-4e87-8aba-1d0742aca5e5"
   },
   "outputs": [
    {
     "data": {
      "text/plain": [
       "(1, 224, 224, 3)"
      ]
     },
     "execution_count": 32,
     "metadata": {},
     "output_type": "execute_result"
    }
   ],
   "source": [
    "x=np.expand_dims(x,axis=0)\n",
    "x.shape"
   ]
  },
  {
   "cell_type": "code",
   "execution_count": 33,
   "metadata": {
    "colab": {
     "base_uri": "https://localhost:8080/"
    },
    "executionInfo": {
     "elapsed": 1008,
     "status": "ok",
     "timestamp": 1610947457560,
     "user": {
      "displayName": "Ujwal Sah",
      "photoUrl": "https://lh3.googleusercontent.com/a-/AOh14GijuWFTd6FGdQTmHhPXs51pLdmuVqKYF1BIWExLDw=s64",
      "userId": "12511996127236108172"
     },
     "user_tz": -345
    },
    "id": "qOEXYBu130R8",
    "outputId": "a3397792-ea26-4fa3-c63f-b405f4827711"
   },
   "outputs": [
    {
     "data": {
      "text/plain": [
       "(1, 224, 224, 3)"
      ]
     },
     "execution_count": 33,
     "metadata": {},
     "output_type": "execute_result"
    }
   ],
   "source": [
    "img_data=preprocess_input(x)\n",
    "img_data.shape"
   ]
  },
  {
   "cell_type": "code",
   "execution_count": 34,
   "metadata": {
    "colab": {
     "base_uri": "https://localhost:8080/"
    },
    "executionInfo": {
     "elapsed": 1111,
     "status": "ok",
     "timestamp": 1610947459373,
     "user": {
      "displayName": "Ujwal Sah",
      "photoUrl": "https://lh3.googleusercontent.com/a-/AOh14GijuWFTd6FGdQTmHhPXs51pLdmuVqKYF1BIWExLDw=s64",
      "userId": "12511996127236108172"
     },
     "user_tz": -345
    },
    "id": "gINGTI9z4EED",
    "outputId": "fb1fce7b-b50a-4313-da49-b97db8fc086c"
   },
   "outputs": [
    {
     "data": {
      "text/plain": [
       "array([[3.948177e-04, 6.107917e-05, 9.995441e-01]], dtype=float32)"
      ]
     },
     "execution_count": 34,
     "metadata": {},
     "output_type": "execute_result"
    }
   ],
   "source": [
    "pred = model.predict(img_data)\n",
    "pred"
   ]
  },
  {
   "cell_type": "code",
   "execution_count": 35,
   "metadata": {
    "colab": {
     "base_uri": "https://localhost:8080/"
    },
    "executionInfo": {
     "elapsed": 1374,
     "status": "ok",
     "timestamp": 1610947462307,
     "user": {
      "displayName": "Ujwal Sah",
      "photoUrl": "https://lh3.googleusercontent.com/a-/AOh14GijuWFTd6FGdQTmHhPXs51pLdmuVqKYF1BIWExLDw=s64",
      "userId": "12511996127236108172"
     },
     "user_tz": -345
    },
    "id": "jpwXGLkD4IOf",
    "outputId": "d79e83dc-38a6-4bff-88db-1d30854fb361"
   },
   "outputs": [
    {
     "name": "stdout",
     "output_type": "stream",
     "text": [
      "2\n"
     ]
    }
   ],
   "source": [
    "pred_binary=np.argmax(pred, axis=1)\n",
    "print(int(pred_binary))"
   ]
  },
  {
   "cell_type": "code",
   "execution_count": 37,
   "metadata": {
    "id": "2KjBdg4y4Z2T"
   },
   "outputs": [],
   "source": [
    "def predict_covid(filepath):\n",
    "    img=load_img(filepath, target_size=(224,224))\n",
    "    x=img_to_array(img)\n",
    "    x=x/255\n",
    "    x=np.expand_dims(x,axis=0)\n",
    "    img_data=preprocess_input(x)\n",
    "    pred=model.predict(img_data)\n",
    "    pred_binary=int(np.argmax(pred, axis=1))\n",
    "    if pred_binary == 0:\n",
    "        result = \"audi\"\n",
    "    if pred_binary == 1:\n",
    "        result = \"lamborghini\"\n",
    "    if pred_binary == 2:\n",
    "        result = \"mercedes\"\n",
    "    return result"
   ]
  },
  {
   "cell_type": "code",
   "execution_count": 39,
   "metadata": {
    "colab": {
     "base_uri": "https://localhost:8080/",
     "height": 35
    },
    "executionInfo": {
     "elapsed": 699,
     "status": "ok",
     "timestamp": 1610947566323,
     "user": {
      "displayName": "Ujwal Sah",
      "photoUrl": "https://lh3.googleusercontent.com/a-/AOh14GijuWFTd6FGdQTmHhPXs51pLdmuVqKYF1BIWExLDw=s64",
      "userId": "12511996127236108172"
     },
     "user_tz": -345
    },
    "id": "HXaONR-q5TH4",
    "outputId": "1a616f5e-c7a7-49c6-b1ef-fe1b2a13ebfb"
   },
   "outputs": [
    {
     "data": {
      "text/plain": [
       "'mercedes'"
      ]
     },
     "execution_count": 39,
     "metadata": {},
     "output_type": "execute_result"
    }
   ],
   "source": [
    "filepath = \"trial.jpg\"\n",
    "prediction = predict_covid(filepath)\n",
    "prediction"
   ]
  },
  {
   "cell_type": "code",
   "execution_count": null,
   "metadata": {
    "id": "2sWHDKB95lv0"
   },
   "outputs": [],
   "source": []
  }
 ],
 "metadata": {
  "accelerator": "GPU",
  "colab": {
   "collapsed_sections": [],
   "name": "malaria_prognosis.ipynb",
   "provenance": [],
   "toc_visible": true
  },
  "kernelspec": {
   "display_name": "Python 3",
   "language": "python",
   "name": "python3"
  },
  "language_info": {
   "codemirror_mode": {
    "name": "ipython",
    "version": 3
   },
   "file_extension": ".py",
   "mimetype": "text/x-python",
   "name": "python",
   "nbconvert_exporter": "python",
   "pygments_lexer": "ipython3",
   "version": "3.8.3"
  }
 },
 "nbformat": 4,
 "nbformat_minor": 1
}
